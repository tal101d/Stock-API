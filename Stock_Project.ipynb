{
  "cells": [
    {
      "cell_type": "markdown",
      "metadata": {
        "id": "WfMaQbdjGnZK"
      },
      "source": [
        "Auother: Tal Dvir"
      ]
    },
    {
      "cell_type": "markdown",
      "metadata": {
        "id": "ciTWhw5wGeM-"
      },
      "source": [
        "[The API site](https://polygon.io/docs/stocks/get_v2_aggs_ticker__stocksticker__range__multiplier___timespan___from___to)"
      ]
    },
    {
      "cell_type": "code",
      "execution_count": null,
      "metadata": {
        "colab": {
          "base_uri": "https://localhost:8080/"
        },
        "id": "q78C2nBP-4dK",
        "outputId": "62d556ec-95f6-4b6c-eb84-403592597e29"
      },
      "outputs": [
        {
          "name": "stdout",
          "output_type": "stream",
          "text": [
            "Requirement already satisfied: mplfinance in /usr/local/lib/python3.10/dist-packages (0.12.10b0)\n",
            "Requirement already satisfied: matplotlib in /usr/local/lib/python3.10/dist-packages (from mplfinance) (3.7.1)\n",
            "Requirement already satisfied: pandas in /usr/local/lib/python3.10/dist-packages (from mplfinance) (1.5.3)\n",
            "Requirement already satisfied: contourpy>=1.0.1 in /usr/local/lib/python3.10/dist-packages (from matplotlib->mplfinance) (1.2.0)\n",
            "Requirement already satisfied: cycler>=0.10 in /usr/local/lib/python3.10/dist-packages (from matplotlib->mplfinance) (0.12.1)\n",
            "Requirement already satisfied: fonttools>=4.22.0 in /usr/local/lib/python3.10/dist-packages (from matplotlib->mplfinance) (4.49.0)\n",
            "Requirement already satisfied: kiwisolver>=1.0.1 in /usr/local/lib/python3.10/dist-packages (from matplotlib->mplfinance) (1.4.5)\n",
            "Requirement already satisfied: numpy>=1.20 in /usr/local/lib/python3.10/dist-packages (from matplotlib->mplfinance) (1.25.2)\n",
            "Requirement already satisfied: packaging>=20.0 in /usr/local/lib/python3.10/dist-packages (from matplotlib->mplfinance) (23.2)\n",
            "Requirement already satisfied: pillow>=6.2.0 in /usr/local/lib/python3.10/dist-packages (from matplotlib->mplfinance) (9.4.0)\n",
            "Requirement already satisfied: pyparsing>=2.3.1 in /usr/local/lib/python3.10/dist-packages (from matplotlib->mplfinance) (3.1.2)\n",
            "Requirement already satisfied: python-dateutil>=2.7 in /usr/local/lib/python3.10/dist-packages (from matplotlib->mplfinance) (2.8.2)\n",
            "Requirement already satisfied: pytz>=2020.1 in /usr/local/lib/python3.10/dist-packages (from pandas->mplfinance) (2023.4)\n",
            "Requirement already satisfied: six>=1.5 in /usr/local/lib/python3.10/dist-packages (from python-dateutil>=2.7->matplotlib->mplfinance) (1.16.0)\n"
          ]
        }
      ],
      "source": [
        "!pip install mplfinance\n"
      ]
    },
    {
      "cell_type": "code",
      "execution_count": null,
      "metadata": {
        "colab": {
          "base_uri": "https://localhost:8080/"
        },
        "id": "f9ednvyYSXKy",
        "outputId": "487c58ce-8835-4e7b-d60c-6cf079febf13"
      },
      "outputs": [
        {
          "name": "stdout",
          "output_type": "stream",
          "text": [
            "--2024-03-12 19:56:45--  https://drive.google.com/uc?export=download&id=1IbcmIhLAZmc5N6OyuRS9zHs8No9ma7tc\n",
            "Resolving drive.google.com (drive.google.com)... 142.250.128.100, 142.250.128.113, 142.250.128.101, ...\n",
            "Connecting to drive.google.com (drive.google.com)|142.250.128.100|:443... connected.\n",
            "HTTP request sent, awaiting response... 303 See Other\n",
            "Location: https://drive.usercontent.google.com/download?id=1IbcmIhLAZmc5N6OyuRS9zHs8No9ma7tc&export=download [following]\n",
            "--2024-03-12 19:56:45--  https://drive.usercontent.google.com/download?id=1IbcmIhLAZmc5N6OyuRS9zHs8No9ma7tc&export=download\n",
            "Resolving drive.usercontent.google.com (drive.usercontent.google.com)... 142.251.120.132, 2607:f8b0:4001:c2e::84\n",
            "Connecting to drive.usercontent.google.com (drive.usercontent.google.com)|142.251.120.132|:443... connected.\n",
            "HTTP request sent, awaiting response... 200 OK\n",
            "Length: 81 [application/octet-stream]\n",
            "Saving to: ‘config.txt’\n",
            "\n",
            "config.txt          100%[===================>]      81  --.-KB/s    in 0s      \n",
            "\n",
            "2024-03-12 19:56:46 (7.80 MB/s) - ‘config.txt’ saved [81/81]\n",
            "\n"
          ]
        }
      ],
      "source": [
        "!wget 'https://drive.google.com/uc?export=download&id=1IbcmIhLAZmc5N6OyuRS9zHs8No9ma7tc' -O config.txt"
      ]
    },
    {
      "cell_type": "code",
      "execution_count": null,
      "metadata": {
        "id": "Ebdem0ASCLjN"
      },
      "outputs": [],
      "source": [
        "import requests\n",
        "import datetime\n",
        "import matplotlib.pyplot as plt\n",
        "import yfinance as yf #(for the dataset)\n",
        "import mplfinance as mpf\n",
        "import yfinance as yf #(for the dataset)\n"
      ]
    },
    {
      "cell_type": "markdown",
      "metadata": {
        "id": "igyFVWl3bIOh"
      },
      "source": []
    },
    {
      "cell_type": "code",
      "execution_count": null,
      "metadata": {
        "id": "0YAYZEhqDNYo"
      },
      "outputs": [],
      "source": [
        "\n",
        "\n",
        "# Function to fetch data from the stock API\n",
        "def get_stock_data(symbol, key, to, from_):\n",
        "\n",
        "    url = f'https://api.polygon.io/v2/aggs/ticker/{symbol}/range/1/day/{from_}/{to}?apiKey={key}'\n",
        "\n",
        "    try:\n",
        "      response = requests.get(url)\n",
        "      response.raise_for_status()  #Raise an exception for non-200 status codes\n",
        "\n",
        "      data =  response.json()\n",
        "      return data\n",
        "\n",
        "    except requests.exceptions.RequestException as e:\n",
        "        print(\"Error:\", e)\n",
        "        return None\n",
        "\n",
        "# Function to load configurations from a text file\n",
        "def load_config(filename):\n",
        "\n",
        "\n",
        "    config = {}\n",
        "    with open(filename, 'r') as file:\n",
        "        lines = file.readlines()\n",
        "        for line in lines:\n",
        "            # print(\"print line : \" + line)\n",
        "            key, value = line.strip().split('=')\n",
        "            config[key] = value\n",
        "\n",
        "        print(f\"print config: {config}\")\n",
        "    return config\n",
        "\n",
        "def convert_unix_msec_to_datetime(unix_msec_timestamp):\n",
        "\n",
        "    unix_sec_timestamp = unix_msec_timestamp / 1000\n",
        "    # Create a datetime object from the timestamp\n",
        "    dt_object = datetime.datetime.utcfromtimestamp(unix_sec_timestamp)\n",
        "    return dt_object\n",
        "\n",
        "\n",
        "# Function to write statistics to file. from a text file\n",
        "def write_output(filename, data):\n",
        "\n",
        "    with open(filename, 'w') as file:\n",
        "      for line in data:\n",
        "          file.write(str(line) +\"\\n\")\n"
      ]
    },
    {
      "cell_type": "markdown",
      "metadata": {
        "id": "t_FzrOfjbKgf"
      },
      "source": []
    },
    {
      "cell_type": "code",
      "execution_count": null,
      "metadata": {
        "id": "frbK0bDyNHz7"
      },
      "outputs": [],
      "source": [
        "\n",
        "def get_input(symbol, from_, to):\n",
        "\n",
        "    # assumtion, the API doesn't support today's date\n",
        "\n",
        "    # Getting user's input request\n",
        "    input_symbol = input(\"Enter the stock symbol(for defualt press enter): \\n\").upper() #symbols must be uppercase\n",
        "    symbol = input_symbol if input_symbol else symbol\n",
        "\n",
        "    input_from = input(\"Insert the start date in format '%YYYY-%mm-%dd'(for default press enter): \\n\")\n",
        "    input_to = input(\"Insert the end date in format '%YYYY-%mm-%dd' (for default press enter): \\n\")\n",
        "\n",
        "\n",
        "    # Convert the dates from string to datetime.datetime object to handle unexpected inputs like \"asdfa\" or 14sdfs(int) or unvalide date\n",
        "    # The .date() is to omite the default 00:00:00 (midnight) that comes with the datetime object\n",
        "    try:\n",
        "      input_to = datetime.datetime.strptime(input_to, \"%Y-%m-%d\").date() if input_to else None\n",
        "      input_from = datetime.datetime.strptime(input_from, \"%Y-%m-%d\").date() if input_from else None\n",
        "\n",
        "      # print(input_to ,input_from)\n",
        "    except Exception as e:\n",
        "      print(f\"Error: {e}\")\n",
        "\n",
        "    # convert for the option to use  '<' and not get unsupported opration error\n",
        "    from_datetime =  datetime.datetime.strptime(from_ , \"%Y-%m-%d\").date()\n",
        "    to_datetime = datetime.datetime.strptime(to , \"%Y-%m-%d\").date()\n",
        "\n",
        "    # checking edge cases to validate the to and from dates\n",
        "    if input_to and input_from and input_to < input_from:\n",
        "        raise Exception(\"End date cannot be before start date.\")\n",
        "\n",
        "    elif  input_to and  input_to < from_datetime:\n",
        "        raise Exception(\"End date cannot be before default start date.\")\n",
        "\n",
        "    elif input_from and to_datetime < input_from:\n",
        "        raise Exception(\"From date cannot be After default end date.\")\n",
        "    else:\n",
        "      to = input_to if input_to else to\n",
        "      from_ = input_from if input_from else from_\n",
        "\n",
        "\n",
        "    return (symbol, from_, to) # tuple\n"
      ]
    },
    {
      "cell_type": "code",
      "execution_count": null,
      "metadata": {
        "id": "tnIUmfLKNNNh"
      },
      "outputs": [],
      "source": [
        "\n",
        "def plot_line(commerce_dates, open_close, symbol):\n",
        "    print(\"A line chart is a way of visually representing an asset's price history using a single, continuous line. \\n\")\n",
        "    dates = [datetime.datetime.strptime(date, \"%Y-%m-%d\") for date in commerce_dates]\n",
        "    close_prices = [item[1] for item in open_close]\n",
        "\n",
        "    percentage = (close_prices[-1] / close_prices[0]) * 100 -100  #geeting the defference\n",
        "\n",
        "    color = 'g' if close_prices[0] < close_prices[-1] else 'r'\n",
        "    if close_prices[0] == close_prices[-1]:\n",
        "      color = 'gray'\n",
        "      percentage = 0\n",
        "\n",
        "    percentage = f\"Current Price: {close_prices[-1]},  {percentage:.2f}%\"\n",
        "\n",
        "\n",
        "    plt.figure(figsize=(12, 6), dpi=500)\n",
        "    plt.plot(dates, close_prices, marker=',')\n",
        "    plt.xlabel('Date')\n",
        "    plt.ylabel('Price')\n",
        "    plt.title(f'{symbol}')\n",
        "    plt.suptitle(percentage, fontsize=12, fontweight='bold', color=color)  # Adding the colored subtitle\n",
        "    plt.tight_layout()\n",
        "    plt.xticks(dates[::10], rotation=45)  # Adjust the step size as needed, here every 10th date is shown with a rotation of 45 degrees\n",
        "\n",
        "    plt.show()\n",
        "\n",
        "\n",
        "\n",
        "def plot_candle(symbol, from_, to):\n",
        "    print(\"A candlestick graph displays the relationship between the high, low, opening, and closing price of a stock. \")\n",
        "    stock_data = yf.download(symbol, start= from_, end=to,)\n",
        "    mpf.plot(stock_data, type='candle')\n",
        "\n",
        "\n",
        "\n",
        "\n",
        "def plot_area(commerce_dates, open_close, symbol):\n",
        "    print(\"The graph shows the aggregated close prices. \\n\")\n",
        "    dates = [datetime.datetime.strptime(date, \"%Y-%m-%d\") for date in commerce_dates]\n",
        "    close_prices = [item[1] for item in open_close]\n",
        "\n",
        "    percentage = (close_prices[-1] / close_prices[0]) * 100 - 100  #geeting the defference\n",
        "    color = 'g' if close_prices[0] < close_prices[-1] else 'r'\n",
        "\n",
        "    if close_prices[0] == close_prices[-1]:\n",
        "      color = 'gray'\n",
        "      percentage = 0\n",
        "\n",
        "    percentage = f\"Current Price: {close_prices[-1]},  {percentage:.2f}%\"\n",
        "\n",
        "\n",
        "    plt.figure(figsize=(12, 6), dpi=500)\n",
        "    plt.plot(dates, close_prices, marker=',')\n",
        "    plt.xlabel('Date')\n",
        "    plt.ylabel('Price')\n",
        "    plt.title(f'{symbol}')\n",
        "    plt.suptitle(percentage, fontsize=12, fontweight='bold', color=color)  # Adding the colored subtitle\n",
        "    plt.fill_between(dates, close_prices, color=color)  # Fill area between open and close prices\n",
        "    plt.tight_layout()\n",
        "    plt.xticks(dates[::10], rotation=45)  # Adjust the step size as needed, here every 10th date is shown with a rotation of 45 degrees\n",
        "    plt.tight_layout()\n",
        "    plt.show()\n"
      ]
    },
    {
      "cell_type": "markdown",
      "metadata": {
        "id": "lKeaqyb1jhJd"
      },
      "source": []
    },
    {
      "cell_type": "code",
      "execution_count": null,
      "metadata": {
        "colab": {
          "background_save": true,
          "base_uri": "https://localhost:8080/"
        },
        "id": "fnlQUvbIEEH1",
        "outputId": "2d921ea7-a27f-4dda-8b97-69bb42e1bf35"
      },
      "outputs": [
        {
          "name": "stdout",
          "output_type": "stream",
          "text": [
            "print config: {'key': 'ZMXwlS8PhYPKFNrEESjL90DpF4wf1faQ', 'symbol': 'NVDA', 'from': '2023-02-04', 'to': '2024-03-04'}\n"
          ]
        }
      ],
      "source": [
        "\n",
        "# Main function to interact with the user\n",
        "def main():\n",
        "    data_to_output_file = []\n",
        "\n",
        "    # Load configurations from the text file and extract the key for request the api\n",
        "    config = load_config('config.txt')\n",
        "\n",
        "    symbol = config['symbol']\n",
        "    key = config[\"key\"]\n",
        "    to = config[\"to\"]\n",
        "    from_ = config[\"from\"]\n",
        "\n",
        "    # update if neccesery\n",
        "    symbol, from_, to = get_input(symbol, from_, to)\n",
        "\n",
        "\n",
        "\n",
        "    # Fetch data from the stock API\n",
        "    stock_data = get_stock_data(symbol, key, to , from_)\n",
        "\n",
        "\n",
        "    # Check if the requested stock exists by the symbol that the user inserted\n",
        "    if 'results' not in stock_data.keys():\n",
        "      raise Exception(\"The Symbol doesn't exists. Please check your input\")\n",
        "\n",
        "\n",
        "    # total nums of day trades in the given date range\n",
        "    number_commerce_days = stock_data[\"resultsCount\"]\n",
        "\n",
        "    # extract all dictioneries holding data per date of the given range\n",
        "    stock_data_range_date = stock_data['results']\n",
        "    print(stock_data_range_date)\n",
        "\n",
        "    # Iterate over a the dictionaries and extract the dates to (yead-month-day format), open & close prices and high & low prices\n",
        "    commerce_dates = [str(convert_unix_msec_to_datetime(diction['t']).strftime(\"%Y-%m-%d\")) for diction in stock_data_range_date]\n",
        "    open_close = [(diction['o'], diction['c']) for diction in stock_data_range_date]\n",
        "    high_low = [(diction['h'], diction['l']) for diction in stock_data_range_date]\n",
        "\n",
        "\n",
        "\n",
        "    # total move in this time period and taking 2 numbers after the period\n",
        "    percentage = (open_close[-1][1] / open_close[0][1]) * 100 - 100\n",
        "    percentage = \"{:.2f}\".format(percentage)\n",
        "\n",
        "    # Add some data to the output file\n",
        "    data_to_output_file.append(\"The Stock is: \" + str(symbol))\n",
        "    data_to_output_file.append(\"Choosen Dates: from: \" + str(from_) + \" to: \" + str(to) + \" total number of commere days are: \" + str(number_commerce_days))\n",
        "    data_to_output_file.append(\"The current price is: \" + str(open_close[-1][1]) + \" total move in this period: \" + str(percentage)+\"%\")\n",
        "\n",
        "\n",
        "    # maybe candle graph isnt counted as special feature\n",
        "\n",
        "    if stock_data:\n",
        "        print(\"********************************************************************************************************\")\n",
        "        print(\"Summery of the query: \\n\")\n",
        "        for line in data_to_output_file:\n",
        "          print(line)\n",
        "\n",
        "        # wrtie the summrey into an output file\n",
        "        write_output(\"output.txt\", data_to_output_file)\n",
        "\n",
        "    else:\n",
        "        print(\"Failed to fetch stock data. Please check the symbol or try again later.\")\n",
        "\n",
        "    # Plotting Graphs\n",
        "    plot_line(commerce_dates, open_close, symbol)\n",
        "    print(\"\\n\")\n",
        "    plot_area(commerce_dates, open_close, symbol)\n",
        "    print(\"\\n\")\n",
        "    plot_candle(symbol, str(from_), str(to)) # using special library\n",
        "    print(\"\\n\")\n",
        "\n",
        "\n",
        "main()\n",
        "# maybe candle graph isnt counted as special feature\n"
      ]
    }
  ],
  "metadata": {
    "colab": {
      "provenance": []
    },
    "kernelspec": {
      "display_name": "Python 3",
      "name": "python3"
    },
    "language_info": {
      "name": "python"
    }
  },
  "nbformat": 4,
  "nbformat_minor": 0
}
